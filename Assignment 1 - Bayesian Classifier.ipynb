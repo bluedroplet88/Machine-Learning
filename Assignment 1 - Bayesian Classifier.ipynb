{
 "cells": [
  {
   "cell_type": "code",
   "execution_count": 3,
   "metadata": {
    "collapsed": true
   },
   "outputs": [],
   "source": [
    "import numpy as np  \n",
    "import pandas as pd  \n",
    "import matplotlib.pyplot as plt  \n",
    "import math as math"
   ]
  },
  {
   "cell_type": "code",
   "execution_count": 4,
   "metadata": {},
   "outputs": [
    {
     "name": "stderr",
     "output_type": "stream",
     "text": [
      "/Users/shirleyliu/anaconda3/lib/python3.6/site-packages/pandas/util/_decorators.py:118: FutureWarning: The `sheetname` keyword is deprecated, use `sheet_name` instead\n",
      "  return func(*args, **kwargs)\n"
     ]
    }
   ],
   "source": [
    "df = pd.read_excel('Assignment_1_Data_and_Template.xlsx', sheetname='Data')"
   ]
  },
  {
   "cell_type": "code",
   "execution_count": 5,
   "metadata": {},
   "outputs": [
    {
     "data": {
      "text/html": [
       "<div>\n",
       "<style scoped>\n",
       "    .dataframe tbody tr th:only-of-type {\n",
       "        vertical-align: middle;\n",
       "    }\n",
       "\n",
       "    .dataframe tbody tr th {\n",
       "        vertical-align: top;\n",
       "    }\n",
       "\n",
       "    .dataframe thead th {\n",
       "        text-align: right;\n",
       "    }\n",
       "</style>\n",
       "<table border=\"1\" class=\"dataframe\">\n",
       "  <thead>\n",
       "    <tr style=\"text-align: right;\">\n",
       "      <th></th>\n",
       "      <th>Height_Feet</th>\n",
       "      <th>Height_Inches</th>\n",
       "      <th>Gender</th>\n",
       "      <th>total_inches</th>\n",
       "    </tr>\n",
       "  </thead>\n",
       "  <tbody>\n",
       "    <tr>\n",
       "      <th>0</th>\n",
       "      <td>5</td>\n",
       "      <td>10</td>\n",
       "      <td>Male</td>\n",
       "      <td>70</td>\n",
       "    </tr>\n",
       "    <tr>\n",
       "      <th>1</th>\n",
       "      <td>6</td>\n",
       "      <td>4</td>\n",
       "      <td>Male</td>\n",
       "      <td>76</td>\n",
       "    </tr>\n",
       "    <tr>\n",
       "      <th>2</th>\n",
       "      <td>5</td>\n",
       "      <td>10</td>\n",
       "      <td>Male</td>\n",
       "      <td>70</td>\n",
       "    </tr>\n",
       "    <tr>\n",
       "      <th>3</th>\n",
       "      <td>5</td>\n",
       "      <td>9</td>\n",
       "      <td>Male</td>\n",
       "      <td>69</td>\n",
       "    </tr>\n",
       "    <tr>\n",
       "      <th>4</th>\n",
       "      <td>5</td>\n",
       "      <td>7</td>\n",
       "      <td>Female</td>\n",
       "      <td>67</td>\n",
       "    </tr>\n",
       "  </tbody>\n",
       "</table>\n",
       "</div>"
      ],
      "text/plain": [
       "   Height_Feet  Height_Inches  Gender  total_inches\n",
       "0            5             10    Male            70\n",
       "1            6              4    Male            76\n",
       "2            5             10    Male            70\n",
       "3            5              9    Male            69\n",
       "4            5              7  Female            67"
      ]
     },
     "execution_count": 5,
     "metadata": {},
     "output_type": "execute_result"
    }
   ],
   "source": [
    "## Getting the height into inches \n",
    "df['total_inches'] = df['Height_Feet'] * 12 + df['Height_Inches']\n",
    "df.head()"
   ]
  },
  {
   "cell_type": "markdown",
   "metadata": {},
   "source": [
    "## Creating my own Histogram"
   ]
  },
  {
   "cell_type": "code",
   "execution_count": 6,
   "metadata": {},
   "outputs": [
    {
     "name": "stdout",
     "output_type": "stream",
     "text": [
      "83 52\n"
     ]
    }
   ],
   "source": [
    "maximum = max(df['total_inches'])\n",
    "minimum = min(df['total_inches'])\n",
    "print(maximum, minimum)"
   ]
  },
  {
   "cell_type": "code",
   "execution_count": 7,
   "metadata": {},
   "outputs": [
    {
     "data": {
      "text/plain": [
       "array([0, 1, 2])"
      ]
     },
     "execution_count": 7,
     "metadata": {},
     "output_type": "execute_result"
    }
   ],
   "source": [
    "a = np.array([1,2,3])\n",
    "a - 1"
   ]
  },
  {
   "cell_type": "code",
   "execution_count": 8,
   "metadata": {
    "collapsed": true
   },
   "outputs": [],
   "source": [
    "def histogram_classifier(X,T,B,xmin,xmax):\n",
    "    HF = np.zeros(B).astype('int32') \n",
    "    HM = np.zeros(B).astype('int32') \n",
    "    binindices = (np.round(((B-1) * (X - xmin) / (xmax - xmin)))).astype('int64')\n",
    "    for i,b in enumerate(binindices):\n",
    "        if T[i] == 'Female':\n",
    "            HF[b] += 1\n",
    "        else: \n",
    "            HM[b] += 1\n",
    "    return [HF, HM]\n",
    "hist = pd.DataFrame(histogram_classifier(df['total_inches'], df['Gender'], 32, minimum, maximum))\n"
   ]
  },
  {
   "cell_type": "code",
   "execution_count": 9,
   "metadata": {},
   "outputs": [
    {
     "data": {
      "text/html": [
       "<div>\n",
       "<style scoped>\n",
       "    .dataframe tbody tr th:only-of-type {\n",
       "        vertical-align: middle;\n",
       "    }\n",
       "\n",
       "    .dataframe tbody tr th {\n",
       "        vertical-align: top;\n",
       "    }\n",
       "\n",
       "    .dataframe thead th {\n",
       "        text-align: right;\n",
       "    }\n",
       "</style>\n",
       "<table border=\"1\" class=\"dataframe\">\n",
       "  <thead>\n",
       "    <tr style=\"text-align: right;\">\n",
       "      <th></th>\n",
       "      <th>52</th>\n",
       "      <th>53</th>\n",
       "      <th>54</th>\n",
       "      <th>55</th>\n",
       "      <th>56</th>\n",
       "      <th>57</th>\n",
       "      <th>58</th>\n",
       "      <th>59</th>\n",
       "      <th>60</th>\n",
       "      <th>61</th>\n",
       "      <th>...</th>\n",
       "      <th>74</th>\n",
       "      <th>75</th>\n",
       "      <th>76</th>\n",
       "      <th>77</th>\n",
       "      <th>78</th>\n",
       "      <th>79</th>\n",
       "      <th>80</th>\n",
       "      <th>81</th>\n",
       "      <th>82</th>\n",
       "      <th>83</th>\n",
       "    </tr>\n",
       "  </thead>\n",
       "  <tbody>\n",
       "    <tr>\n",
       "      <th>female</th>\n",
       "      <td>3</td>\n",
       "      <td>5</td>\n",
       "      <td>12</td>\n",
       "      <td>24</td>\n",
       "      <td>44</td>\n",
       "      <td>101</td>\n",
       "      <td>163</td>\n",
       "      <td>260</td>\n",
       "      <td>404</td>\n",
       "      <td>549</td>\n",
       "      <td>...</td>\n",
       "      <td>20</td>\n",
       "      <td>12</td>\n",
       "      <td>5</td>\n",
       "      <td>0</td>\n",
       "      <td>0</td>\n",
       "      <td>0</td>\n",
       "      <td>0</td>\n",
       "      <td>0</td>\n",
       "      <td>0</td>\n",
       "      <td>0</td>\n",
       "    </tr>\n",
       "    <tr>\n",
       "      <th>male</th>\n",
       "      <td>0</td>\n",
       "      <td>0</td>\n",
       "      <td>0</td>\n",
       "      <td>0</td>\n",
       "      <td>0</td>\n",
       "      <td>0</td>\n",
       "      <td>0</td>\n",
       "      <td>0</td>\n",
       "      <td>1</td>\n",
       "      <td>10</td>\n",
       "      <td>...</td>\n",
       "      <td>610</td>\n",
       "      <td>432</td>\n",
       "      <td>274</td>\n",
       "      <td>155</td>\n",
       "      <td>83</td>\n",
       "      <td>38</td>\n",
       "      <td>24</td>\n",
       "      <td>5</td>\n",
       "      <td>3</td>\n",
       "      <td>1</td>\n",
       "    </tr>\n",
       "  </tbody>\n",
       "</table>\n",
       "<p>2 rows × 32 columns</p>\n",
       "</div>"
      ],
      "text/plain": [
       "        52  53  54  55  56   57   58   59   60   61 ...   74   75   76   77  \\\n",
       "female   3   5  12  24  44  101  163  260  404  549 ...   20   12    5    0   \n",
       "male     0   0   0   0   0    0    0    0    1   10 ...  610  432  274  155   \n",
       "\n",
       "        78  79  80  81  82  83  \n",
       "female   0   0   0   0   0   0  \n",
       "male    83  38  24   5   3   1  \n",
       "\n",
       "[2 rows x 32 columns]"
      ]
     },
     "execution_count": 9,
     "metadata": {},
     "output_type": "execute_result"
    }
   ],
   "source": [
    "hist.columns = np.arange(52,84)\n",
    "hist.index = ['female','male']\n",
    "hist"
   ]
  },
  {
   "cell_type": "code",
   "execution_count": 10,
   "metadata": {},
   "outputs": [
    {
     "data": {
      "image/png": "[encoded data removed]",
      "text/plain": [
       "<matplotlib.figure.Figure at 0x112a826a0>"
      ]
     },
     "metadata": {},
     "output_type": "display_data"
    }
   ],
   "source": [
    "plt.bar(hist.columns,hist.loc['female',:], color = 'red', alpha=0.5)\n",
    "plt.bar(hist.columns,hist.loc['male',:], color = 'blue', alpha=0.5)\n",
    "plt.legend(['female height', 'male height'])\n",
    "plt.xlabel('inches')\n",
    "plt.show()"
   ]
  },
  {
   "cell_type": "markdown",
   "metadata": {},
   "source": [
    "# Creating my Histogram Classifier"
   ]
  },
  {
   "cell_type": "code",
   "execution_count": 13,
   "metadata": {
    "collapsed": true
   },
   "outputs": [],
   "source": [
    "heights = [55,60,65,70,75,80]\n",
    "\n",
    "def hist_classifier(dataframe, gender, heights):\n",
    "    probability_list = []\n",
    "    for i in heights:\n",
    "        probability_list.append(dataframe.loc[gender,i] / dataframe.loc[:,i].sum())\n",
    "    return probability_list"
   ]
  },
  {
   "cell_type": "code",
   "execution_count": 14,
   "metadata": {},
   "outputs": [
    {
     "data": {
      "text/plain": [
       "[1.0,\n",
       " 0.9975308641975309,\n",
       " 0.8078149920255183,\n",
       " 0.2604529616724739,\n",
       " 0.02702702702702703,\n",
       " 0.0]"
      ]
     },
     "execution_count": 14,
     "metadata": {},
     "output_type": "execute_result"
    }
   ],
   "source": [
    "hist_classifier(hist, 'female', heights)"
   ]
  },
  {
   "cell_type": "markdown",
   "metadata": {},
   "source": [
    "# Creating my Bayesian Classifier"
   ]
  },
  {
   "cell_type": "markdown",
   "metadata": {},
   "source": [
    "## Getting My Parameters"
   ]
  },
  {
   "cell_type": "code",
   "execution_count": 15,
   "metadata": {},
   "outputs": [
    {
     "name": "stdout",
     "output_type": "stream",
     "text": [
      "7800 8900\n"
     ]
    }
   ],
   "source": [
    "m_total = len(df[df['Gender'] == 'Male'])\n",
    "f_total = len(df[df['Gender'] == 'Female'])\n",
    "print(m_total, f_total)"
   ]
  },
  {
   "cell_type": "code",
   "execution_count": 16,
   "metadata": {},
   "outputs": [
    {
     "name": "stdout",
     "output_type": "stream",
     "text": [
      "64.72573033707866 70.76807692307692\n"
     ]
    }
   ],
   "source": [
    "f_mean = df[df['Gender'] == 'Female']['total_inches'].mean()\n",
    "m_mean = df[df['Gender'] == 'Male']['total_inches'].mean()\n",
    "print(f_mean, m_mean)"
   ]
  },
  {
   "cell_type": "code",
   "execution_count": 17,
   "metadata": {},
   "outputs": [
    {
     "name": "stdout",
     "output_type": "stream",
     "text": [
      "3.478434480283158 3.3096673675130455\n"
     ]
    }
   ],
   "source": [
    "f_std = df[df['Gender'] == 'Female']['total_inches'].std()\n",
    "m_std = df[df['Gender'] == 'Male']['total_inches'].std()\n",
    "print(f_std, m_std)"
   ]
  },
  {
   "cell_type": "code",
   "execution_count": 18,
   "metadata": {},
   "outputs": [
    {
     "data": {
      "text/plain": [
       "0.3989422804014327"
      ]
     },
     "execution_count": 18,
     "metadata": {},
     "output_type": "execute_result"
    }
   ],
   "source": [
    "( 1/ np.sqrt(2 * math.pi))"
   ]
  },
  {
   "cell_type": "code",
   "execution_count": 22,
   "metadata": {},
   "outputs": [
    {
     "data": {
      "text/plain": [
       "247.79956754412746"
      ]
     },
     "execution_count": 22,
     "metadata": {},
     "output_type": "execute_result"
    }
   ],
   "source": [
    "def bayesian_classifier(mu, sig, count, height):\n",
    "    return count * (( 1/ np.sqrt(2 * math.pi) * sig) * np.exp((-1/2) * (((height - mu) / sig) ** 2)))\n",
    "\n",
    "bayesian_classifier(f_mean, f_std, f_total, 55)                                 "
   ]
  },
  {
   "cell_type": "code",
   "execution_count": 23,
   "metadata": {
    "collapsed": true
   },
   "outputs": [],
   "source": [
    "def bayesian(heights, muF, muM, sigF, sigM, m_total, f_total):\n",
    "    bay_list = []\n",
    "    for i in heights:\n",
    "        bay_list.append(bayesian_classifier(muF, sigF, f_total, i)  / (bayesian_classifier(muF, sigF, f_total, i) + bayesian_classifier(muM, sigM, m_total, i)))\n",
    "    return bay_list    "
   ]
  },
  {
   "cell_type": "code",
   "execution_count": 24,
   "metadata": {},
   "outputs": [
    {
     "data": {
      "text/plain": [
       "[0.9995106106643138,\n",
       " 0.989558770820231,\n",
       " 0.8451717689143626,\n",
       " 0.28070704480950737,\n",
       " 0.03347056732386948,\n",
       " 0.003799644597361561]"
      ]
     },
     "execution_count": 24,
     "metadata": {},
     "output_type": "execute_result"
    }
   ],
   "source": [
    "bayesian(heights, f_mean, m_mean, f_std, m_std, m_total, f_total)"
   ]
  },
  {
   "cell_type": "markdown",
   "metadata": {},
   "source": [
    "## Partial Data - 50 Samples\n",
    "Here I am doing the same thing with less data"
   ]
  },
  {
   "cell_type": "code",
   "execution_count": 117,
   "metadata": {},
   "outputs": [
    {
     "data": {
      "text/html": [
       "<div>\n",
       "<style>\n",
       "    .dataframe thead tr:only-child th {\n",
       "        text-align: right;\n",
       "    }\n",
       "\n",
       "    .dataframe thead th {\n",
       "        text-align: left;\n",
       "    }\n",
       "\n",
       "    .dataframe tbody tr th {\n",
       "        vertical-align: top;\n",
       "    }\n",
       "</style>\n",
       "<table border=\"1\" class=\"dataframe\">\n",
       "  <thead>\n",
       "    <tr style=\"text-align: right;\">\n",
       "      <th></th>\n",
       "      <th>52</th>\n",
       "      <th>53</th>\n",
       "      <th>54</th>\n",
       "      <th>55</th>\n",
       "      <th>56</th>\n",
       "      <th>57</th>\n",
       "      <th>58</th>\n",
       "      <th>59</th>\n",
       "      <th>60</th>\n",
       "      <th>61</th>\n",
       "      <th>...</th>\n",
       "      <th>74</th>\n",
       "      <th>75</th>\n",
       "      <th>76</th>\n",
       "      <th>77</th>\n",
       "      <th>78</th>\n",
       "      <th>79</th>\n",
       "      <th>80</th>\n",
       "      <th>81</th>\n",
       "      <th>82</th>\n",
       "      <th>83</th>\n",
       "    </tr>\n",
       "  </thead>\n",
       "  <tbody>\n",
       "    <tr>\n",
       "      <th>Female</th>\n",
       "      <td>0</td>\n",
       "      <td>0</td>\n",
       "      <td>0</td>\n",
       "      <td>1</td>\n",
       "      <td>1</td>\n",
       "      <td>0</td>\n",
       "      <td>1</td>\n",
       "      <td>1</td>\n",
       "      <td>0</td>\n",
       "      <td>1</td>\n",
       "      <td>...</td>\n",
       "      <td>0</td>\n",
       "      <td>0</td>\n",
       "      <td>0</td>\n",
       "      <td>0</td>\n",
       "      <td>0</td>\n",
       "      <td>0</td>\n",
       "      <td>0</td>\n",
       "      <td>0</td>\n",
       "      <td>0</td>\n",
       "      <td>0</td>\n",
       "    </tr>\n",
       "    <tr>\n",
       "      <th>Male</th>\n",
       "      <td>0</td>\n",
       "      <td>0</td>\n",
       "      <td>0</td>\n",
       "      <td>0</td>\n",
       "      <td>0</td>\n",
       "      <td>0</td>\n",
       "      <td>0</td>\n",
       "      <td>0</td>\n",
       "      <td>0</td>\n",
       "      <td>0</td>\n",
       "      <td>...</td>\n",
       "      <td>4</td>\n",
       "      <td>1</td>\n",
       "      <td>2</td>\n",
       "      <td>0</td>\n",
       "      <td>0</td>\n",
       "      <td>0</td>\n",
       "      <td>1</td>\n",
       "      <td>0</td>\n",
       "      <td>0</td>\n",
       "      <td>0</td>\n",
       "    </tr>\n",
       "  </tbody>\n",
       "</table>\n",
       "<p>2 rows × 32 columns</p>\n",
       "</div>"
      ],
      "text/plain": [
       "        52  53  54  55  56  57  58  59  60  61 ...  74  75  76  77  78  79  \\\n",
       "Female   0   0   0   1   1   0   1   1   0   1 ...   0   0   0   0   0   0   \n",
       "Male     0   0   0   0   0   0   0   0   0   0 ...   4   1   2   0   0   0   \n",
       "\n",
       "        80  81  82  83  \n",
       "Female   0   0   0   0  \n",
       "Male     1   0   0   0  \n",
       "\n",
       "[2 rows x 32 columns]"
      ]
     },
     "execution_count": 117,
     "metadata": {},
     "output_type": "execute_result"
    }
   ],
   "source": [
    "## 50 samples\n",
    "hist_50_raw = df[0:50]\n",
    "hist_50 = pd.DataFrame(histogram_classifier(df[0:50]['total_inches'], df[0:50]['Gender'], 32, minimum, maximum))\n",
    "hist_50.columns = np.arange(52,84)\n",
    "hist_50.index = ['Female', 'Male']\n",
    "hist_50"
   ]
  },
  {
   "cell_type": "code",
   "execution_count": 127,
   "metadata": {},
   "outputs": [
    {
     "name": "stdout",
     "output_type": "stream",
     "text": [
      "22 28 71.8181818182 64.0714285714 3.45909929973 3.95276341619\n"
     ]
    }
   ],
   "source": [
    "m_total_50 = len(hist_50_raw[hist_50_raw['Gender'] == 'Male'])\n",
    "f_total_50 = len(hist_50_raw[hist_50_raw['Gender'] == 'Female'])\n",
    "m_mean_50 = hist_50_raw[hist_50_raw['Gender'] == 'Male']['total_inches'].mean()\n",
    "f_mean_50 = hist_50_raw[hist_50_raw['Gender'] == 'Female']['total_inches'].mean()\n",
    "m_std_50 = hist_50_raw[hist_50_raw['Gender'] == 'Male']['total_inches'].std()\n",
    "f_std_50 = hist_50_raw[hist_50_raw['Gender'] == 'Female']['total_inches'].std()\n",
    "\n",
    "print(m_total_50, f_total_50, m_mean_50, f_mean_50, m_std_50, f_std_50)"
   ]
  },
  {
   "cell_type": "code",
   "execution_count": 128,
   "metadata": {},
   "outputs": [
    {
     "name": "stderr",
     "output_type": "stream",
     "text": [
      "/Users/shirleyliu/anaconda3/lib/python3.6/site-packages/ipykernel_launcher.py:6: RuntimeWarning: invalid value encountered in long_scalars\n",
      "  \n"
     ]
    },
    {
     "data": {
      "text/plain": [
       "[1.0, nan, 1.0, 0.0, 0.0, 0.0]"
      ]
     },
     "execution_count": 128,
     "metadata": {},
     "output_type": "execute_result"
    }
   ],
   "source": [
    "hist_classifier(hist_50, 'Female', heights)"
   ]
  },
  {
   "cell_type": "code",
   "execution_count": 129,
   "metadata": {},
   "outputs": [
    {
     "data": {
      "text/plain": [
       "[0.99732407346347451,\n",
       " 0.98345174978128402,\n",
       " 0.85314713100511086,\n",
       " 0.25825039827265628,\n",
       " 0.012630117514608677,\n",
       " 0.00028803674886421351]"
      ]
     },
     "execution_count": 129,
     "metadata": {},
     "output_type": "execute_result"
    }
   ],
   "source": [
    "bayesian(heights, f_mean_50, m_mean_50, m_std_50, f_std_50, m_total_50, f_total_50)"
   ]
  },
  {
   "cell_type": "markdown",
   "metadata": {
    "collapsed": true
   },
   "source": [
    "## Observations"
   ]
  },
  {
   "cell_type": "markdown",
   "metadata": {},
   "source": [
    "* Histogram Classifier works well when data is not sparse. In the full data set, histogram classifer and bayesian produces similar results.\n",
    "* However, when we use only 50 data points, the data is so sparse, we don't have a lot of signal for male or female for many of the heights. Bayesian however, assuming a PDF, generates results similar to the full data set"
   ]
  },
  {
   "cell_type": "code",
   "execution_count": null,
   "metadata": {
    "collapsed": true
   },
   "outputs": [],
   "source": []
  }
 ],
 "metadata": {
  "kernelspec": {
   "display_name": "Python 3",
   "language": "python",
   "name": "python3"
  },
  "language_info": {
   "codemirror_mode": {
    "name": "ipython",
    "version": 3
   },
   "file_extension": ".py",
   "mimetype": "text/x-python",
   "name": "python",
   "nbconvert_exporter": "python",
   "pygments_lexer": "ipython3",
   "version": "3.6.3"
  }
 },
 "nbformat": 4,
 "nbformat_minor": 2
}
